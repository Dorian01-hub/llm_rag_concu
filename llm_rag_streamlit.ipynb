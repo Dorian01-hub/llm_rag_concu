{
 "cells": [
  {
   "cell_type": "code",
   "execution_count": 1,
   "id": "66d54d64",
   "metadata": {},
   "outputs": [],
   "source": [
    "from langchain.vectorstores import Chroma\n",
    "from langchain.embeddings import HuggingFaceEmbeddings\n",
    "from mistralai.client import MistralClient\n",
    "from mistralai import Mistral\n",
    "from langchain_mistralai import ChatMistralAI\n",
    "\n",
    "from dataclasses import dataclass\n",
    "\n",
    "from langchain.chat_models.base import SimpleChatModel\n",
    "import os\n",
    "from langchain.chains import RetrievalQA\n",
    "import streamlit as st\n",
    "\n",
    "\n"
   ]
  },
  {
   "cell_type": "code",
   "execution_count": 2,
   "id": "fa24bee3",
   "metadata": {},
   "outputs": [
    {
     "name": "stderr",
     "output_type": "stream",
     "text": [
      "C:\\Users\\doria\\AppData\\Local\\Temp\\ipykernel_9104\\1844848340.py:9: LangChainDeprecationWarning: The class `HuggingFaceEmbeddings` was deprecated in LangChain 0.2.2 and will be removed in 1.0. An updated version of the class exists in the :class:`~langchain-huggingface package and should be used instead. To use it run `pip install -U :class:`~langchain-huggingface` and import as `from :class:`~langchain_huggingface import HuggingFaceEmbeddings``.\n",
      "  embedding_model = HuggingFaceEmbeddings(model_name=\"sentence-transformers/all-mpnet-base-v2\")\n",
      "C:\\Users\\doria\\AppData\\Local\\Temp\\ipykernel_9104\\1844848340.py:12: LangChainDeprecationWarning: The class `Chroma` was deprecated in LangChain 0.2.9 and will be removed in 1.0. An updated version of the class exists in the :class:`~langchain-chroma package and should be used instead. To use it run `pip install -U :class:`~langchain-chroma` and import as `from :class:`~langchain_chroma import Chroma``.\n",
      "  vectordb = Chroma(persist_directory=\"chromadb\", embedding_function=embedding_model)\n"
     ]
    }
   ],
   "source": [
    "@dataclass\n",
    "class ChatMessage:\n",
    "    role: str\n",
    "    content: str\n",
    "\n",
    "\n",
    "\n",
    "# Exemple : tu dois utiliser le même modèle d'embedding que celui utilisé pour indexer\n",
    "embedding_model = HuggingFaceEmbeddings(model_name=\"sentence-transformers/all-mpnet-base-v2\")\n",
    "\n",
    "# Connexion à ta base Chroma\n",
    "vectordb = Chroma(persist_directory=\"chromadb\", embedding_function=embedding_model)\n",
    "\n",
    "\n",
    "retriever = vectordb.as_retriever(search_kwargs={\"k\": 5})\n",
    "\n",
    "\n",
    "\n"
   ]
  },
  {
   "cell_type": "code",
   "execution_count": 6,
   "id": "49493898",
   "metadata": {},
   "outputs": [
    {
     "name": "stdout",
     "output_type": "stream",
     "text": [
      "Réponse :\n",
      " Je ne sais pas. Le texte fourni ne donne pas de chiffre précis sur le nombre total de taxis en France.\n",
      "\n",
      "--- Source ---\n",
      "https://www.autoritedelaconcurrence.fr/sites/default/files/commitments//15a20.pdf\n",
      "434 chauffeurs de taxi contre 23 082 chauffeurs de vtc à paris on dénombre environ 20 000 chauffeurs de taxi contre 3 600 chauffeurs de vtc en angleterre qui ne contingente ni les licences pour taxi ni les licences pour vtc on dénombre par comparaison 75 082 taxis contre 167 118 vtc et à londres 25 200 taxis contre 78 700 vtc 4 16 à londres il est aisé de trouver un taxi dans la rue selon le député thomas thévenoud dans son rapport un taxi pour l’avenir des emplois sur la france la raison serait qu’à londres le marché de la maraude est suffisamment rémunérateur pour que les taxis investissent peu le marché de la réservation préalable le rapport ne précise pourtant pas la raison exacte du caractère plus rémunérateur de la maraude au royaume uni alors que les mêmes règles de tarification horokilométrique s’appliquent aux taxis en monopole pour la maraude et qu’une intervention sur le marché de la réservation préalable est comme en france également permise aux taxis 17 la présence de nombreux taxis en maraude en angleterre s’explique en fait surtout par la concurrence plus ancienne des vtc à partir de 1960 et le coût très faible de la licence sur lequel il n’est pas possible de spéculer puisqu’elle est achetée à l’état et qu’il n’est pas possible de la céder à titre onéreux ainsi dès lors que les vtc ont depuis longtemps investi le marché de la réservation préalable et que les chauffeurs de taxi britanniques n’ont pas besoin de sélectionner les courses les plus rentables à la différence des chauffeurs de taxi français qui se sont parfois endettés sur une longue période pour payer leur licence les taxis britanniques exercent leur activité très majoritairement sur le marché de la maraude et tirent ainsi pleinement parti de leur monopole 18 une étude comparative de richard darbéra concernant l’offre de taxi et la mobilité en 2009 réalisée à partir d’une enquête portant sur des données relatives aux années 2007 et 2008 illustre clairement le phénomène français d’un désintérêt des taxis pour leur monopole sur le marché de la maraude 5 19 bien que l’offre de vtc soit beaucoup moins développée en france qu’en angleterre le consommateur peut aujourd’hui pallier la pénurie de taxis en se tournant vers l’alternative que constitue la réservation préalable de vtc même si le service n’est pas complètement substituable notamment en raison de conditions tarifaires et réglementaires différentes par contre en maraude dans la mesure où ce marché constitue le monopole des taxis le consommateur ne dispose d’aucune alternative 20 or effectuer des courses en maraude est un atout important pour le consommateur trouver un taxi rapidement dans la rue sans devoir faire appel à un tiers central radio taxi site internet ou application de vtc ou de taxi sans payer de course d’approche d’abonnement ou de supplément de réservation à l’avance les vtc ne facturent pas la course d’approche au sens strict du terme mais le forfait inclut généralement une rémunération\n",
      "\n",
      "--- Source ---\n",
      "https://www.autoritedelaconcurrence.fr/sites/default/files/commitments//15a20.pdf\n",
      "434 chauffeurs de taxi contre 23 082 chauffeurs de vtc à paris on dénombre environ 20 000 chauffeurs de taxi contre 3 600 chauffeurs de vtc en angleterre qui ne contingente ni les licences pour taxi ni les licences pour vtc on dénombre par comparaison 75 082 taxis contre 167 118 vtc et à londres 25 200 taxis contre 78 700 vtc 4 16 à londres il est aisé de trouver un taxi dans la rue selon le député thomas thévenoud dans son rapport un taxi pour l’avenir des emplois sur la france la raison serait qu’à londres le marché de la maraude est suffisamment rémunérateur pour que les taxis investissent peu le marché de la réservation préalable le rapport ne précise pourtant pas la raison exacte du caractère plus rémunérateur de la maraude au royaume uni alors que les mêmes règles de tarification horokilométrique s’appliquent aux taxis en monopole pour la maraude et qu’une intervention sur le marché de la réservation préalable est comme en france également permise aux taxis 17 la présence de nombreux taxis en maraude en angleterre s’explique en fait surtout par la concurrence plus ancienne des vtc à partir de 1960 et le coût très faible de la licence sur lequel il n’est pas possible de spéculer puisqu’elle est achetée à l’état et qu’il n’est pas possible de la céder à titre onéreux ainsi dès lors que les vtc ont depuis longtemps investi le marché de la réservation préalable et que les chauffeurs de taxi britanniques n’ont pas besoin de sélectionner les courses les plus rentables à la différence des chauffeurs de taxi français qui se sont parfois endettés sur une longue période pour payer leur licence les taxis britanniques exercent leur activité très majoritairement sur le marché de la maraude et tirent ainsi pleinement parti de leur monopole 18 une étude comparative de richard darbéra concernant l’offre de taxi et la mobilité en 2009 réalisée à partir d’une enquête portant sur des données relatives aux années 2007 et 2008 illustre clairement le phénomène français d’un désintérêt des taxis pour leur monopole sur le marché de la maraude 5 19 bien que l’offre de vtc soit beaucoup moins développée en france qu’en angleterre le consommateur peut aujourd’hui pallier la pénurie de taxis en se tournant vers l’alternative que constitue la réservation préalable de vtc même si le service n’est pas complètement substituable notamment en raison de conditions tarifaires et réglementaires différentes par contre en maraude dans la mesure où ce marché constitue le monopole des taxis le consommateur ne dispose d’aucune alternative 20 or effectuer des courses en maraude est un atout important pour le consommateur trouver un taxi rapidement dans la rue sans devoir faire appel à un tiers central radio taxi site internet ou application de vtc ou de taxi sans payer de course d’approche d’abonnement ou de supplément de réservation à l’avance les vtc ne facturent pas la course d’approche au sens strict du terme mais le forfait inclut généralement une rémunération\n",
      "\n",
      "--- Source ---\n",
      "https://www.autoritedelaconcurrence.fr/sites/default/files/commitments//10d15.pdf\n",
      "de douai le mans perpignan et poitiers soit 1 2617 habitants cote 1017 45 globalement l’activité de taxi sur amiens se répartit en 3 catégories l’activité traditionnelle de courses sur la voie publique chargement en station sur réquisition du passager et réservations téléphoniques le transport de malades et le transport de voyageurs donnant lieu à la conclusion de contrats pour le compte de différents donneurs d’ordre le conseil général la sncf les centres hospitaliers les entreprises d’assistance 46 alors que l’activité des taxis des communes de la périphérie se concentre sur les deux derniers types de transport les taxis d’amiens ont une activité qui s’équilibre entre ces trois catégories de transport notamment du fait de la prééminence de l’activité de radio taxi du gie grtam sur la période observée 47 selon m z président du syndicat des artisans du taxi de la somme sats et artisan taxi à longueau26 un taxi qui fait partie de la métropole amiénoise et qui tourne bien peut faire 250 euros jour de chiffre d affaires sur 12 à 13 heures minimum soit environ 5 500 euros par mois aujourd hui environ 28 à 30 maxi du chiffre d affaires revient en net à l artisan taxi les taxis de la métropole amiénoise qui font du scolaire le font avec leur taxi à un prix forfaitaire même s ils ont une autorisation de loti d d r e certains taxis font du transport sécurité sociale très variable de 20 à 80 les autres ont des contrats scolaires ou s n c f personnellement je tourne à 99 sncf pratiquement pas de sécurité sociale je pense que sur amiens les taxis tournent à 40 en station et 60 en scolaire et sécurité sociale 48 m a membre du grtam jusqu’en 2008 confirme cette estimation lors de son audition du 18 septembre 2009 en ce qui concerne les courses sur la voie publique cela représente 60 du ca et 40 pour le transport médical ces chiffres sont les moyennes par chauffeur 27 49 m b président du grtam entre 2003 et 2008 a déclaré dans le procès verbal du 18 décembre 2007 pour mes courses je ne fais pas de médical sauf les courses du groupement si je suis à la queue je fais surtout toutes les courses à la volée du groupement je n'ai pas de clientèle personnelle 28 l’examen des bilans transmis par m b aux enquêteurs montre que par différence et rapprochés du chiffre d’affaires facturé au nom du groupement qui est en moyenne de 21 000 euros 29 les deux tiers du chiffre d’affaires global de m b 30 correspondent effectivement aux courses effectuées sur réquisition du client 25 cote 837 26 cote 978 27 cote 821 28 cote 377 29 a savoir en principe le transport médical et le transport de malades et le transport de voyageurs donnant lieu à la conclusion de contrats pour le compte de différents donneurs d’ordre cotes 509 à 816 30 moyenne annuelle de 60 000 euros\n",
      "\n",
      "--- Source ---\n",
      "https://www.autoritedelaconcurrence.fr/sites/default/files/commitments//15a07.pdf\n",
      "le cas aujourd’hui en augmentant le prix des forfaits les jours de pénurie par exemple le 31 décembre au soir ou aux heures de pénurie ce que ne pourront pas faire les taxis les chauffeurs de taxi risqueraient de perdre les clients pour qui le forfait ne sera pas intéressant par exemple des consommateurs situés au nord de paris et voulant se rendre à l’aéroport de roissy ou devraient concéder des rabais pour conserver ces clients alors qu’à la différence des vtc ils ne pourront pas augmenter le forfait dans le cas d’un client par exemple situé porte de la chapelle et souhaitant se rendre à orly les modalités de concurrence sur les marchés sur lesquels opèrent les taxis 39 dans son avis n 13 a 23 du 16 décembre 2013 relatif à un projet de décret instaurant un délai de quinze minutes entre la réservation et la prise en charge d’un client par un vtc l’autorité a distingué s’agissant du secteur du transport public particulier de personnes à titre onéreux les deux marchés suivants le marché de la maraude c'est à dire la prise en charge immédiate de clients sur la voie publique les taxis jouissent sur ce marché d’un monopole légal le marché de la réservation préalable sur ce marché les taxis sont en concurrence avec les vtc ainsi qu’avec les motos taxis ou encore les ambulances sur le segment du transport de malades 40 le conseil d’état s’est appuyé sur la même distinction entre d’une part l’activité consistant à stationner et à circuler sur la voie publique en quête de clients en vue de leur transport et d’autre part l’activité de transport individuel de personnes suivant des conditions fixées à l’avance entre les parties lorsqu’il a analysé et annulé le décret sur les quinze minutes dans un arrêt du 17 décembre 2014 10 41 dans l’avis n 14 a 17 du 9 décembre 2014 l’autorité a précisé que cette distinction des marchés qui découle d’un raisonnement concurrentiel ne doit pas être confondue avec une distinction des modes d’activité du point de vue de la réglementation qui distingue les vtc et les taxis ces derniers étant précisément actifs sur les deux marchés la séparation des deux marchés bien qu’asymétrique est totale du côté de l’offre pour les raisons 9 ce paramètre a pourtant bien été intégré dans le calcul du forfait par le gouvernement voir paragraphe 89 qui a retenu le tarif nuit pour tous les trajets plus cher de 20 par rapport au tarif jour afin de prendre en compte 10 à 15 minutes d’embouteillage en tarif jour 10 arrêt du 17 décembre 2014 allocab et autres 10 réglementaires qui ont été rappelées les vtc ne pouvant accéder au marché de la maraude mais elle ne l’est pas vis à vis de la demande puisque le besoin à satisfaire est en grande partie le même il existe donc un recouvrement partiel de deux marchés pertinents sans que cela ne remette en cause la nécessité de les distinguer\n",
      "\n",
      "--- Source ---\n",
      "https://www.autoritedelaconcurrence.fr/sites/default/files/commitments//15a07.pdf\n",
      "le cas aujourd’hui en augmentant le prix des forfaits les jours de pénurie par exemple le 31 décembre au soir ou aux heures de pénurie ce que ne pourront pas faire les taxis les chauffeurs de taxi risqueraient de perdre les clients pour qui le forfait ne sera pas intéressant par exemple des consommateurs situés au nord de paris et voulant se rendre à l’aéroport de roissy ou devraient concéder des rabais pour conserver ces clients alors qu’à la différence des vtc ils ne pourront pas augmenter le forfait dans le cas d’un client par exemple situé porte de la chapelle et souhaitant se rendre à orly les modalités de concurrence sur les marchés sur lesquels opèrent les taxis 39 dans son avis n 13 a 23 du 16 décembre 2013 relatif à un projet de décret instaurant un délai de quinze minutes entre la réservation et la prise en charge d’un client par un vtc l’autorité a distingué s’agissant du secteur du transport public particulier de personnes à titre onéreux les deux marchés suivants le marché de la maraude c'est à dire la prise en charge immédiate de clients sur la voie publique les taxis jouissent sur ce marché d’un monopole légal le marché de la réservation préalable sur ce marché les taxis sont en concurrence avec les vtc ainsi qu’avec les motos taxis ou encore les ambulances sur le segment du transport de malades 40 le conseil d’état s’est appuyé sur la même distinction entre d’une part l’activité consistant à stationner et à circuler sur la voie publique en quête de clients en vue de leur transport et d’autre part l’activité de transport individuel de personnes suivant des conditions fixées à l’avance entre les parties lorsqu’il a analysé et annulé le décret sur les quinze minutes dans un arrêt du 17 décembre 2014 10 41 dans l’avis n 14 a 17 du 9 décembre 2014 l’autorité a précisé que cette distinction des marchés qui découle d’un raisonnement concurrentiel ne doit pas être confondue avec une distinction des modes d’activité du point de vue de la réglementation qui distingue les vtc et les taxis ces derniers étant précisément actifs sur les deux marchés la séparation des deux marchés bien qu’asymétrique est totale du côté de l’offre pour les raisons 9 ce paramètre a pourtant bien été intégré dans le calcul du forfait par le gouvernement voir paragraphe 89 qui a retenu le tarif nuit pour tous les trajets plus cher de 20 par rapport au tarif jour afin de prendre en compte 10 à 15 minutes d’embouteillage en tarif jour 10 arrêt du 17 décembre 2014 allocab et autres 10 réglementaires qui ont été rappelées les vtc ne pouvant accéder au marché de la maraude mais elle ne l’est pas vis à vis de la demande puisque le besoin à satisfaire est en grande partie le même il existe donc un recouvrement partiel de deux marchés pertinents sans que cela ne remette en cause la nécessité de les distinguer\n"
     ]
    }
   ],
   "source": [
    "os.environ[\"MISTRAL_API_KEY\"] = \"1ROdIMBXIGXrgxnD3cywOg4EhRaJufJA\"\n",
    "\n",
    "client = Mistral(api_key=\"1ROdIMBXIGXrgxnD3cywOg4EhRaJufJA\")\n",
    "\n",
    "mistral_model = \"mistral-large-latest\" # \"open-mixtral-8x22b\" \n",
    "llm = ChatMistralAI(model=mistral_model, temperature=0.2)\n",
    "\n",
    "\n",
    "# Chaîne RAG\n",
    "qa_chain = RetrievalQA.from_chain_type(\n",
    "    llm=llm,\n",
    "    retriever=retriever,\n",
    "    return_source_documents=True  # Pour récupérer les chunks utilisés\n",
    ")\n",
    "\n",
    "# Exemple de question\n",
    "question = \"Combien de taxi en France ?\"\n",
    "result = qa_chain(question)\n",
    "\n",
    "print(\"Réponse :\\n\", result['result'])\n",
    "\n",
    "# Pour afficher les sources :\n",
    "for doc in result[\"source_documents\"]:\n",
    "    print(\"\\n--- Source ---\")\n",
    "    print(doc.metadata[\"lien_pdf\"])  # ou autre champ\n",
    "    print(doc.page_content)\n"
   ]
  },
  {
   "cell_type": "code",
   "execution_count": null,
   "id": "87ba1b82",
   "metadata": {},
   "outputs": [
    {
     "name": "stderr",
     "output_type": "stream",
     "text": [
      "2025-06-12 19:35:33.829 WARNING streamlit.runtime.scriptrunner_utils.script_run_context: Thread 'MainThread': missing ScriptRunContext! This warning can be ignored when running in bare mode.\n",
      "2025-06-12 19:35:35.191 \n",
      "  \u001b[33m\u001b[1mWarning:\u001b[0m to view this Streamlit app on a browser, run it with the following\n",
      "  command:\n",
      "\n",
      "    streamlit run C:\\Users\\doria\\AppData\\Roaming\\Python\\Python312\\site-packages\\ipykernel_launcher.py [ARGUMENTS]\n",
      "2025-06-12 19:35:35.191 Thread 'MainThread': missing ScriptRunContext! This warning can be ignored when running in bare mode.\n"
     ]
    }
   ],
   "source": []
  }
 ],
 "metadata": {
  "kernelspec": {
   "display_name": "Python 3",
   "language": "python",
   "name": "python3"
  },
  "language_info": {
   "codemirror_mode": {
    "name": "ipython",
    "version": 3
   },
   "file_extension": ".py",
   "mimetype": "text/x-python",
   "name": "python",
   "nbconvert_exporter": "python",
   "pygments_lexer": "ipython3",
   "version": "3.12.3"
  }
 },
 "nbformat": 4,
 "nbformat_minor": 5
}
