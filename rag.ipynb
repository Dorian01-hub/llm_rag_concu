{
 "cells": [
  {
   "cell_type": "markdown",
   "id": "797be191",
   "metadata": {},
   "source": [
    "#### import de panda, langchain et de la base de données à vectoriser"
   ]
  },
  {
   "cell_type": "code",
   "execution_count": 17,
   "id": "165a6722",
   "metadata": {},
   "outputs": [
    {
     "name": "stdout",
     "output_type": "stream",
     "text": [
      "  source_type                                              titre  \\\n",
      "0    decision  Décision \\n            18-D-22\\n       du \\n  ...   \n",
      "1    decision  Décision \\n            18-D-22\\n       du \\n  ...   \n",
      "2    decision  Décision \\n            18-D-22\\n       du \\n  ...   \n",
      "3    decision  Décision \\n            18-D-22\\n       du \\n  ...   \n",
      "4    decision  Décision \\n            18-D-22\\n       du \\n  ...   \n",
      "\n",
      "              date                                           url_page  \\\n",
      "0  17 octobre 2018  https://www.autoritedelaconcurrence.fr/fr/deci...   \n",
      "1  17 octobre 2018  https://www.autoritedelaconcurrence.fr/fr/deci...   \n",
      "2  17 octobre 2018  https://www.autoritedelaconcurrence.fr/fr/deci...   \n",
      "3  17 octobre 2018  https://www.autoritedelaconcurrence.fr/fr/deci...   \n",
      "4  17 octobre 2018  https://www.autoritedelaconcurrence.fr/fr/deci...   \n",
      "\n",
      "                                             url_pdf  \\\n",
      "0  https://www.autoritedelaconcurrence.fr/sites/d...   \n",
      "1  https://www.autoritedelaconcurrence.fr/sites/d...   \n",
      "2  https://www.autoritedelaconcurrence.fr/sites/d...   \n",
      "3  https://www.autoritedelaconcurrence.fr/sites/d...   \n",
      "4  https://www.autoritedelaconcurrence.fr/sites/d...   \n",
      "\n",
      "                                              chunks     chunk_id  \n",
      "0  république française décision n 18 d 22 du 17 ...  doc_0201_01  \n",
      "1  de ces sociétés cherchant à inciter le maximum...  doc_0201_02  \n",
      "2  court finance enseigne pizza sprint 6 créée en...  doc_0201_03  \n",
      "3  signature du protocole a été annoncée aux fran...  doc_0201_04  \n",
      "4  20 les éléments du dossier ne permettent toute...  doc_0201_05  \n"
     ]
    }
   ],
   "source": [
    "import pandas as pd\n",
    "from langchain.schema import Document\n",
    "from langchain.embeddings import HuggingFaceEmbeddings\n",
    "from langchain.vectorstores import Chroma\n",
    "\n",
    "\n",
    "\n",
    "\n",
    "# Chemin vers votre fichier Feather\n",
    "chemin_fichier = 'base_rag_chunks_final.feather'\n",
    "\n",
    "# Lire le fichier Feather\n",
    "df = pd.read_feather(chemin_fichier)\n",
    "\n",
    "\n",
    "# Afficher les premières lignes du DataFrame\n",
    "print(df.head())\n"
   ]
  },
  {
   "cell_type": "markdown",
   "id": "7a888d62",
   "metadata": {},
   "source": [
    "##### préparation à la vectorisation"
   ]
  },
  {
   "cell_type": "code",
   "execution_count": 15,
   "id": "ffa23a71",
   "metadata": {},
   "outputs": [],
   "source": [
    "\n",
    "\n",
    "documents = []\n",
    "\n",
    "for _, row in df.iterrows():\n",
    "    text = row[\"chunks\"]  # ← nom de la colonne avec le texte\n",
    "    metadata = {\n",
    "        \"titre\": row.get(\"titre\", \"\"),\n",
    "        \"date\": row.get(\"date\", \"\"),\n",
    "        \"lien_pdf\": row.get(\"url_pdf\", \"\"),\n",
    "        \"lien_page\": row.get(\"url_page\", \"\"),\n",
    "        \"source_type\": row.get(\"source_type\", \"\"),\n",
    "        \"chunk_id\": row.get(\"chunk_id\", \"\")\n",
    "        \n",
    "        # ajoute d'autres métadonnées si nécessaire\n",
    "    }\n",
    "    documents.append(Document(page_content=text, metadata=metadata))"
   ]
  },
  {
   "cell_type": "markdown",
   "id": "d85e780a",
   "metadata": {},
   "source": [
    "##### Vectorisation de la base de données"
   ]
  },
  {
   "cell_type": "code",
   "execution_count": null,
   "id": "340cd57a",
   "metadata": {},
   "outputs": [
    {
     "name": "stderr",
     "output_type": "stream",
     "text": [
      "C:\\Users\\doria\\AppData\\Local\\Temp\\ipykernel_31420\\1487233975.py:2: LangChainDeprecationWarning: The class `HuggingFaceEmbeddings` was deprecated in LangChain 0.2.2 and will be removed in 1.0. An updated version of the class exists in the :class:`~langchain-huggingface package and should be used instead. To use it run `pip install -U :class:`~langchain-huggingface` and import as `from :class:`~langchain_huggingface import HuggingFaceEmbeddings``.\n",
      "  embeddings = HuggingFaceEmbeddings(model_name=\"all-mpnet-base-v2\")\n"
     ]
    },
    {
     "data": {
      "application/vnd.jupyter.widget-view+json": {
       "model_id": "711ad335001e408aa13fb8e0445e0666",
       "version_major": 2,
       "version_minor": 0
      },
      "text/plain": [
       "modules.json:   0%|          | 0.00/349 [00:00<?, ?B/s]"
      ]
     },
     "metadata": {},
     "output_type": "display_data"
    },
    {
     "name": "stderr",
     "output_type": "stream",
     "text": [
      "C:\\Users\\doria\\AppData\\Roaming\\Python\\Python312\\site-packages\\huggingface_hub\\file_download.py:143: UserWarning: `huggingface_hub` cache-system uses symlinks by default to efficiently store duplicated files but your machine does not support them in C:\\Users\\doria\\.cache\\huggingface\\hub\\models--sentence-transformers--all-mpnet-base-v2. Caching files will still work but in a degraded version that might require more space on your disk. This warning can be disabled by setting the `HF_HUB_DISABLE_SYMLINKS_WARNING` environment variable. For more details, see https://huggingface.co/docs/huggingface_hub/how-to-cache#limitations.\n",
      "To support symlinks on Windows, you either need to activate Developer Mode or to run Python as an administrator. In order to activate developer mode, see this article: https://docs.microsoft.com/en-us/windows/apps/get-started/enable-your-device-for-development\n",
      "  warnings.warn(message)\n"
     ]
    },
    {
     "data": {
      "application/vnd.jupyter.widget-view+json": {
       "model_id": "8fbefb886fb64bd0bb20717188af88c0",
       "version_major": 2,
       "version_minor": 0
      },
      "text/plain": [
       "config_sentence_transformers.json:   0%|          | 0.00/116 [00:00<?, ?B/s]"
      ]
     },
     "metadata": {},
     "output_type": "display_data"
    },
    {
     "data": {
      "application/vnd.jupyter.widget-view+json": {
       "model_id": "cecff8adbeae45ea83feb3e5c932be48",
       "version_major": 2,
       "version_minor": 0
      },
      "text/plain": [
       "README.md:   0%|          | 0.00/10.4k [00:00<?, ?B/s]"
      ]
     },
     "metadata": {},
     "output_type": "display_data"
    },
    {
     "data": {
      "application/vnd.jupyter.widget-view+json": {
       "model_id": "5a709e3d2f1d4b3fb062142e3bc1eb42",
       "version_major": 2,
       "version_minor": 0
      },
      "text/plain": [
       "sentence_bert_config.json:   0%|          | 0.00/53.0 [00:00<?, ?B/s]"
      ]
     },
     "metadata": {},
     "output_type": "display_data"
    },
    {
     "data": {
      "application/vnd.jupyter.widget-view+json": {
       "model_id": "8a15e0e446d440a9afaa72aa2b2e03e6",
       "version_major": 2,
       "version_minor": 0
      },
      "text/plain": [
       "config.json:   0%|          | 0.00/571 [00:00<?, ?B/s]"
      ]
     },
     "metadata": {},
     "output_type": "display_data"
    },
    {
     "name": "stderr",
     "output_type": "stream",
     "text": [
      "Xet Storage is enabled for this repo, but the 'hf_xet' package is not installed. Falling back to regular HTTP download. For better performance, install the package with: `pip install huggingface_hub[hf_xet]` or `pip install hf_xet`\n"
     ]
    },
    {
     "data": {
      "application/vnd.jupyter.widget-view+json": {
       "model_id": "bfcb69c3423548f988a288caf6341770",
       "version_major": 2,
       "version_minor": 0
      },
      "text/plain": [
       "model.safetensors:   0%|          | 0.00/438M [00:00<?, ?B/s]"
      ]
     },
     "metadata": {},
     "output_type": "display_data"
    },
    {
     "data": {
      "application/vnd.jupyter.widget-view+json": {
       "model_id": "2e91ba3ca5704df6a41feee321bc047e",
       "version_major": 2,
       "version_minor": 0
      },
      "text/plain": [
       "tokenizer_config.json:   0%|          | 0.00/363 [00:00<?, ?B/s]"
      ]
     },
     "metadata": {},
     "output_type": "display_data"
    },
    {
     "data": {
      "application/vnd.jupyter.widget-view+json": {
       "model_id": "c40a9f00925943c6bb570a2cbd197592",
       "version_major": 2,
       "version_minor": 0
      },
      "text/plain": [
       "vocab.txt:   0%|          | 0.00/232k [00:00<?, ?B/s]"
      ]
     },
     "metadata": {},
     "output_type": "display_data"
    },
    {
     "data": {
      "application/vnd.jupyter.widget-view+json": {
       "model_id": "baecf91202be49f3b46209075cef8191",
       "version_major": 2,
       "version_minor": 0
      },
      "text/plain": [
       "tokenizer.json:   0%|          | 0.00/466k [00:00<?, ?B/s]"
      ]
     },
     "metadata": {},
     "output_type": "display_data"
    },
    {
     "data": {
      "application/vnd.jupyter.widget-view+json": {
       "model_id": "033d829e668e4b13b1c221157a355ef1",
       "version_major": 2,
       "version_minor": 0
      },
      "text/plain": [
       "special_tokens_map.json:   0%|          | 0.00/239 [00:00<?, ?B/s]"
      ]
     },
     "metadata": {},
     "output_type": "display_data"
    },
    {
     "data": {
      "application/vnd.jupyter.widget-view+json": {
       "model_id": "0dee98d82fea43c3b42c1b9b60ea7dad",
       "version_major": 2,
       "version_minor": 0
      },
      "text/plain": [
       "config.json:   0%|          | 0.00/190 [00:00<?, ?B/s]"
      ]
     },
     "metadata": {},
     "output_type": "display_data"
    },
    {
     "ename": "NameError",
     "evalue": "name 'Chroma' is not defined",
     "output_type": "error",
     "traceback": [
      "\u001b[1;31m---------------------------------------------------------------------------\u001b[0m",
      "\u001b[1;31mNameError\u001b[0m                                 Traceback (most recent call last)",
      "Cell \u001b[1;32mIn[16], line 5\u001b[0m\n\u001b[0;32m      2\u001b[0m embeddings \u001b[38;5;241m=\u001b[39m HuggingFaceEmbeddings(model_name\u001b[38;5;241m=\u001b[39m\u001b[38;5;124m\"\u001b[39m\u001b[38;5;124mall-mpnet-base-v2\u001b[39m\u001b[38;5;124m\"\u001b[39m)\n\u001b[0;32m      4\u001b[0m \u001b[38;5;66;03m# Création de la base de vecteurs avec Chroma\u001b[39;00m\n\u001b[1;32m----> 5\u001b[0m vectorstore \u001b[38;5;241m=\u001b[39m \u001b[43mChroma\u001b[49m\u001b[38;5;241m.\u001b[39mfrom_documents(documents, embeddings, persist_directory\u001b[38;5;241m=\u001b[39m\u001b[38;5;124m\"\u001b[39m\u001b[38;5;124mchromadb\u001b[39m\u001b[38;5;124m\"\u001b[39m)\n\u001b[0;32m      7\u001b[0m \u001b[38;5;66;03m# Sauvegarde de la base de vecteurs\u001b[39;00m\n\u001b[0;32m      8\u001b[0m vectorstore\u001b[38;5;241m.\u001b[39mpersist()\n",
      "\u001b[1;31mNameError\u001b[0m: name 'Chroma' is not defined"
     ]
    }
   ],
   "source": [
    "\n",
    "# Initialiser les embeddings avec un modèle plus performant\n",
    "embeddings = HuggingFaceEmbeddings(model_name=\"all-mpnet-base-v2\")\n",
    "\n"
   ]
  },
  {
   "cell_type": "code",
   "execution_count": 18,
   "id": "4b662a25",
   "metadata": {},
   "outputs": [
    {
     "name": "stderr",
     "output_type": "stream",
     "text": [
      "C:\\Users\\doria\\AppData\\Local\\Temp\\ipykernel_31420\\2206293889.py:5: LangChainDeprecationWarning: Since Chroma 0.4.x the manual persistence method is no longer supported as docs are automatically persisted.\n",
      "  vectorstore.persist()\n"
     ]
    }
   ],
   "source": [
    "# Création de la base de vecteurs avec Chroma\n",
    "vectorstore = Chroma.from_documents(documents, embeddings, persist_directory=\"chromadb\")\n",
    "\n",
    "# Sauvegarde de la base de vecteurs\n",
    "vectorstore.persist()"
   ]
  }
 ],
 "metadata": {
  "kernelspec": {
   "display_name": "Python 3",
   "language": "python",
   "name": "python3"
  },
  "language_info": {
   "codemirror_mode": {
    "name": "ipython",
    "version": 3
   },
   "file_extension": ".py",
   "mimetype": "text/x-python",
   "name": "python",
   "nbconvert_exporter": "python",
   "pygments_lexer": "ipython3",
   "version": "3.12.3"
  }
 },
 "nbformat": 4,
 "nbformat_minor": 5
}
